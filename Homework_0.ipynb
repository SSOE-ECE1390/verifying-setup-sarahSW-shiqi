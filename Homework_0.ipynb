{
 "cells": [
  {
   "cell_type": "markdown",
   "metadata": {},
   "source": [
    "# <font style=\"color:black\">Lecture 1: Homework Problem</font>\n",
    "\n",
    "In this first homework set, I want you to make sure that you can use GitHub, MS Code, and OpenCV.\n",
    "You should (already to be able to read this document), clone the Github classroom assignment and edit it in VS Code.  In this python notebook, do the following:\n",
    "\n",
    "* Load an (Grayscale) image  (‘Data/Apollo_11_Launch.jpg’)\n",
    "* View image\n",
    "* Crop image\n",
    "* Edit brightness of image\n",
    "* Rotate image\n",
    "* Save modified image"
   ]
  },
  {
   "cell_type": "code",
   "execution_count": null,
   "metadata": {},
   "outputs": [
    {
     "ename": "",
     "evalue": "",
     "output_type": "error",
     "traceback": [
      "\u001b[1;31mRunning cells with 'dwsl (Python 3.11.5)' requires the ipykernel package.\n",
      "\u001b[1;31m<a href='command:jupyter.createPythonEnvAndSelectController'>Create a Python Environment</a> with the required packages.\n",
      "\u001b[1;31mOr install 'ipykernel' using the command: 'conda install -n dwsl ipykernel --update-deps --force-reinstall'"
     ]
    }
   ],
   "source": [
    "# Import libraries\n",
    "import cv2\n",
    "import matplotlib.pyplot as plt\n",
    "\n",
    "# -----------------------------\n",
    "# 1. Load an (Grayscale) image (‘Data/Apollo_11_Launch.jpg’)\n",
    "# -----------------------------\n",
    "img = cv2.imread('Data/Apollo_11_Launch.jpg', cv2.IMREAD_GRAYSCALE)\n",
    "\n",
    "# Check if loaded\n",
    "if img is None:\n",
    "    print(\"Error: Image not found!\")\n",
    "else:\n",
    "    print(\"Image loaded successfully.\")\n",
    "\n",
    "# -----------------------------\n",
    "# 2. View image\n",
    "# -----------------------------\n",
    "plt.imshow(img, cmap='gray')\n",
    "plt.title(\"Original Image\")\n",
    "plt.axis('off')\n",
    "plt.show()\n",
    "\n",
    "# -----------------------------\n",
    "# 3. Crop image\n",
    "# -----------------------------\n",
    "# Example: crop center portion\n",
    "h, w = img.shape\n",
    "crop_img = img[h//4:3*h//4, w//4:3*w//4]\n",
    "\n",
    "plt.imshow(crop_img, cmap='gray')\n",
    "plt.title(\"Cropped Image\")\n",
    "plt.axis('off')\n",
    "plt.show()\n",
    "\n",
    "# -----------------------------\n",
    "# 4. Edit brightness\n",
    "# -----------------------------\n",
    "# Increase brightness by adding a value (clip to [0,255])\n",
    "bright_img = cv2.convertScaleAbs(img, alpha=1, beta=50)  # beta = brightness offset\n",
    "\n",
    "plt.imshow(bright_img, cmap='gray')\n",
    "plt.title(\"Brightness Adjusted Image\")\n",
    "plt.axis('off')\n",
    "plt.show()\n",
    "\n",
    "# -----------------------------\n",
    "# 5. Rotate image\n",
    "# -----------------------------\n",
    "# Rotate 45 degrees around center\n",
    "center = (w // 2, h // 2)\n",
    "M = cv2.getRotationMatrix2D(center, 45, 1.0)  # (center, angle, scale)\n",
    "rotated_img = cv2.warpAffine(img, M, (w, h))\n",
    "\n",
    "plt.imshow(rotated_img, cmap='gray')\n",
    "plt.title(\"Rotated Image (45°)\")\n",
    "plt.axis('off')\n",
    "plt.show()\n",
    "\n",
    "# -----------------------------\n",
    "# 6. Save modified image\n",
    "# -----------------------------\n",
    "cv2.imwrite(\"Data/Apollo_11_Modified.jpg\", rotated_img)\n",
    "print(\"Modified image saved as 'Data/Apollo_11_Modified.jpg'\")\n"
   ]
  }
 ],
 "metadata": {
  "kernelspec": {
   "display_name": "dwsl",
   "language": "python",
   "name": "python3"
  },
  "language_info": {
   "name": "python",
   "version": "3.11.5"
  }
 },
 "nbformat": 4,
 "nbformat_minor": 2
}
